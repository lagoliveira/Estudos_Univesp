{
  "nbformat": 4,
  "nbformat_minor": 0,
  "metadata": {
    "colab": {
      "name": "codedecode_txt.ipynb",
      "provenance": [],
      "collapsed_sections": [],
      "authorship_tag": "ABX9TyNbWgcl3crHoh2Iecthmqql",
      "include_colab_link": true
    },
    "kernelspec": {
      "name": "python3",
      "display_name": "Python 3"
    },
    "language_info": {
      "name": "python"
    }
  },
  "cells": [
    {
      "cell_type": "markdown",
      "metadata": {
        "id": "view-in-github",
        "colab_type": "text"
      },
      "source": [
        "<a href=\"https://colab.research.google.com/github/lagoliveira/Estudos_Univesp/blob/master/codedecode_txt.ipynb\" target=\"_parent\"><img src=\"https://colab.research.google.com/assets/colab-badge.svg\" alt=\"Open In Colab\"/></a>"
      ]
    },
    {
      "cell_type": "code",
      "source": [
        "def codifica():\n",
        "  palavra = input('Digite uma palavra: ' )\n",
        "  lista = list(palavra)\n",
        "  segredo = \"\"\n",
        "  for x in lista:\n",
        "    if (x == 'z'): segredo += \"a\"\n",
        "    elif (x == 'Z'): segredo += \"A\"\n",
        "    else: segredo += chr(ord(x)+1)\n",
        "  print(segredo)"
      ],
      "metadata": {
        "id": "4dSM55mAI-7_"
      },
      "execution_count": 29,
      "outputs": []
    },
    {
      "cell_type": "code",
      "source": [
        "def decodifica():\n",
        "  palavra = input('Digite uma palavra: ' )\n",
        "  lista = list(palavra)\n",
        "  segredo = \"\"\n",
        "  for x in lista:\n",
        "    if (x == 'z'): segredo += \"a\"\n",
        "    elif (x == 'Z'): segredo += \"A\"\n",
        "    else: segredo += chr(ord(x)-1)\n",
        "  print(segredo)"
      ],
      "metadata": {
        "id": "Go7ewaXyOSpk"
      },
      "execution_count": 30,
      "outputs": []
    },
    {
      "cell_type": "code",
      "source": [
        "codifica()\n"
      ],
      "metadata": {
        "colab": {
          "base_uri": "https://localhost:8080/"
        },
        "id": "Ght_ZWhvJXAA",
        "outputId": "47cc1bcf-fd48-43ea-a287-db98f5603c88"
      },
      "execution_count": 31,
      "outputs": [
        {
          "output_type": "stream",
          "name": "stdout",
          "text": [
            "Digite uma palavra: Veni, vidi, vici, soli Deo gloria!\n",
            "Wfoj-!wjej-!wjdj-!tpmj!Efp!hmpsjb\"\n"
          ]
        }
      ]
    },
    {
      "cell_type": "code",
      "source": [
        "decodifica()"
      ],
      "metadata": {
        "colab": {
          "base_uri": "https://localhost:8080/"
        },
        "id": "OMlcxlzRO-Am",
        "outputId": "fce3b604-ab78-4d3b-b443-2bb3d4b45a13"
      },
      "execution_count": 32,
      "outputs": [
        {
          "output_type": "stream",
          "name": "stdout",
          "text": [
            "Digite uma palavra: Wfoj-!wjej-!wjdj-!tpmj!Efp!hmpsjb\"\n",
            "Veni, vidi, vici, soli Deo gloria!\n"
          ]
        }
      ]
    }
  ]
}